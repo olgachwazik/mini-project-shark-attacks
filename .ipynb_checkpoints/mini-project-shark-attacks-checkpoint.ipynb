{
 "cells": [
  {
   "cell_type": "code",
   "execution_count": 1,
   "id": "2e221715",
   "metadata": {},
   "outputs": [],
   "source": [
    "import numpy as np\n",
    "import pandas as pd\n",
    "import seaborn as sns\n",
    "from scipy import stats\n",
    "import matplotlib.pyplot as plt\n",
    "from sklearn.linear_model import LinearRegression\n",
    "from sklearn.model_selection import train_test_split\n",
    "from sklearn.preprocessing import OneHotEncoder, Normalizer, StandardScaler\n",
    "from sklearn.metrics import mean_squared_error, r2_score, mean_absolute_error\n",
    "\n",
    "import warnings\n",
    "warnings.filterwarnings('ignore')"
   ]
  },
  {
   "cell_type": "markdown",
   "id": "8dac8aa6",
   "metadata": {},
   "source": [
    "## Get data"
   ]
  },
  {
   "cell_type": "code",
   "execution_count": 2,
   "id": "b1577f8e",
   "metadata": {},
   "outputs": [
    {
     "data": {
      "text/html": [
       "<div>\n",
       "<style scoped>\n",
       "    .dataframe tbody tr th:only-of-type {\n",
       "        vertical-align: middle;\n",
       "    }\n",
       "\n",
       "    .dataframe tbody tr th {\n",
       "        vertical-align: top;\n",
       "    }\n",
       "\n",
       "    .dataframe thead th {\n",
       "        text-align: right;\n",
       "    }\n",
       "</style>\n",
       "<table border=\"1\" class=\"dataframe\">\n",
       "  <thead>\n",
       "    <tr style=\"text-align: right;\">\n",
       "      <th></th>\n",
       "      <th>Case Number</th>\n",
       "      <th>Date</th>\n",
       "      <th>Year</th>\n",
       "      <th>Type</th>\n",
       "      <th>Country</th>\n",
       "      <th>Area</th>\n",
       "      <th>Location</th>\n",
       "      <th>Activity</th>\n",
       "      <th>Name</th>\n",
       "      <th>Sex</th>\n",
       "      <th>...</th>\n",
       "      <th>Species</th>\n",
       "      <th>Investigator or Source</th>\n",
       "      <th>pdf</th>\n",
       "      <th>href formula</th>\n",
       "      <th>href</th>\n",
       "      <th>Case Number.1</th>\n",
       "      <th>Case Number.2</th>\n",
       "      <th>original order</th>\n",
       "      <th>Unnamed: 22</th>\n",
       "      <th>Unnamed: 23</th>\n",
       "    </tr>\n",
       "  </thead>\n",
       "  <tbody>\n",
       "    <tr>\n",
       "      <th>0</th>\n",
       "      <td>2018.06.25</td>\n",
       "      <td>25-Jun-2018</td>\n",
       "      <td>2018.0</td>\n",
       "      <td>Boating</td>\n",
       "      <td>USA</td>\n",
       "      <td>California</td>\n",
       "      <td>Oceanside, San Diego County</td>\n",
       "      <td>Paddling</td>\n",
       "      <td>Julie Wolfe</td>\n",
       "      <td>F</td>\n",
       "      <td>...</td>\n",
       "      <td>White shark</td>\n",
       "      <td>R. Collier, GSAF</td>\n",
       "      <td>2018.06.25-Wolfe.pdf</td>\n",
       "      <td>http://sharkattackfile.net/spreadsheets/pdf_di...</td>\n",
       "      <td>http://sharkattackfile.net/spreadsheets/pdf_di...</td>\n",
       "      <td>2018.06.25</td>\n",
       "      <td>2018.06.25</td>\n",
       "      <td>6303.0</td>\n",
       "      <td>NaN</td>\n",
       "      <td>NaN</td>\n",
       "    </tr>\n",
       "    <tr>\n",
       "      <th>1</th>\n",
       "      <td>2018.06.18</td>\n",
       "      <td>18-Jun-2018</td>\n",
       "      <td>2018.0</td>\n",
       "      <td>Unprovoked</td>\n",
       "      <td>USA</td>\n",
       "      <td>Georgia</td>\n",
       "      <td>St. Simon Island, Glynn County</td>\n",
       "      <td>Standing</td>\n",
       "      <td>Adyson McNeely</td>\n",
       "      <td>F</td>\n",
       "      <td>...</td>\n",
       "      <td>NaN</td>\n",
       "      <td>K.McMurray, TrackingSharks.com</td>\n",
       "      <td>2018.06.18-McNeely.pdf</td>\n",
       "      <td>http://sharkattackfile.net/spreadsheets/pdf_di...</td>\n",
       "      <td>http://sharkattackfile.net/spreadsheets/pdf_di...</td>\n",
       "      <td>2018.06.18</td>\n",
       "      <td>2018.06.18</td>\n",
       "      <td>6302.0</td>\n",
       "      <td>NaN</td>\n",
       "      <td>NaN</td>\n",
       "    </tr>\n",
       "    <tr>\n",
       "      <th>2</th>\n",
       "      <td>2018.06.09</td>\n",
       "      <td>09-Jun-2018</td>\n",
       "      <td>2018.0</td>\n",
       "      <td>Invalid</td>\n",
       "      <td>USA</td>\n",
       "      <td>Hawaii</td>\n",
       "      <td>Habush, Oahu</td>\n",
       "      <td>Surfing</td>\n",
       "      <td>John Denges</td>\n",
       "      <td>M</td>\n",
       "      <td>...</td>\n",
       "      <td>NaN</td>\n",
       "      <td>K.McMurray, TrackingSharks.com</td>\n",
       "      <td>2018.06.09-Denges.pdf</td>\n",
       "      <td>http://sharkattackfile.net/spreadsheets/pdf_di...</td>\n",
       "      <td>http://sharkattackfile.net/spreadsheets/pdf_di...</td>\n",
       "      <td>2018.06.09</td>\n",
       "      <td>2018.06.09</td>\n",
       "      <td>6301.0</td>\n",
       "      <td>NaN</td>\n",
       "      <td>NaN</td>\n",
       "    </tr>\n",
       "    <tr>\n",
       "      <th>3</th>\n",
       "      <td>2018.06.08</td>\n",
       "      <td>08-Jun-2018</td>\n",
       "      <td>2018.0</td>\n",
       "      <td>Unprovoked</td>\n",
       "      <td>AUSTRALIA</td>\n",
       "      <td>New South Wales</td>\n",
       "      <td>Arrawarra Headland</td>\n",
       "      <td>Surfing</td>\n",
       "      <td>male</td>\n",
       "      <td>M</td>\n",
       "      <td>...</td>\n",
       "      <td>2 m shark</td>\n",
       "      <td>B. Myatt, GSAF</td>\n",
       "      <td>2018.06.08-Arrawarra.pdf</td>\n",
       "      <td>http://sharkattackfile.net/spreadsheets/pdf_di...</td>\n",
       "      <td>http://sharkattackfile.net/spreadsheets/pdf_di...</td>\n",
       "      <td>2018.06.08</td>\n",
       "      <td>2018.06.08</td>\n",
       "      <td>6300.0</td>\n",
       "      <td>NaN</td>\n",
       "      <td>NaN</td>\n",
       "    </tr>\n",
       "    <tr>\n",
       "      <th>4</th>\n",
       "      <td>2018.06.04</td>\n",
       "      <td>04-Jun-2018</td>\n",
       "      <td>2018.0</td>\n",
       "      <td>Provoked</td>\n",
       "      <td>MEXICO</td>\n",
       "      <td>Colima</td>\n",
       "      <td>La Ticla</td>\n",
       "      <td>Free diving</td>\n",
       "      <td>Gustavo Ramos</td>\n",
       "      <td>M</td>\n",
       "      <td>...</td>\n",
       "      <td>Tiger shark, 3m</td>\n",
       "      <td>A .Kipper</td>\n",
       "      <td>2018.06.04-Ramos.pdf</td>\n",
       "      <td>http://sharkattackfile.net/spreadsheets/pdf_di...</td>\n",
       "      <td>http://sharkattackfile.net/spreadsheets/pdf_di...</td>\n",
       "      <td>2018.06.04</td>\n",
       "      <td>2018.06.04</td>\n",
       "      <td>6299.0</td>\n",
       "      <td>NaN</td>\n",
       "      <td>NaN</td>\n",
       "    </tr>\n",
       "    <tr>\n",
       "      <th>...</th>\n",
       "      <td>...</td>\n",
       "      <td>...</td>\n",
       "      <td>...</td>\n",
       "      <td>...</td>\n",
       "      <td>...</td>\n",
       "      <td>...</td>\n",
       "      <td>...</td>\n",
       "      <td>...</td>\n",
       "      <td>...</td>\n",
       "      <td>...</td>\n",
       "      <td>...</td>\n",
       "      <td>...</td>\n",
       "      <td>...</td>\n",
       "      <td>...</td>\n",
       "      <td>...</td>\n",
       "      <td>...</td>\n",
       "      <td>...</td>\n",
       "      <td>...</td>\n",
       "      <td>...</td>\n",
       "      <td>...</td>\n",
       "      <td>...</td>\n",
       "    </tr>\n",
       "    <tr>\n",
       "      <th>25718</th>\n",
       "      <td>NaN</td>\n",
       "      <td>NaN</td>\n",
       "      <td>NaN</td>\n",
       "      <td>NaN</td>\n",
       "      <td>NaN</td>\n",
       "      <td>NaN</td>\n",
       "      <td>NaN</td>\n",
       "      <td>NaN</td>\n",
       "      <td>NaN</td>\n",
       "      <td>NaN</td>\n",
       "      <td>...</td>\n",
       "      <td>NaN</td>\n",
       "      <td>NaN</td>\n",
       "      <td>NaN</td>\n",
       "      <td>NaN</td>\n",
       "      <td>NaN</td>\n",
       "      <td>NaN</td>\n",
       "      <td>NaN</td>\n",
       "      <td>NaN</td>\n",
       "      <td>NaN</td>\n",
       "      <td>NaN</td>\n",
       "    </tr>\n",
       "    <tr>\n",
       "      <th>25719</th>\n",
       "      <td>NaN</td>\n",
       "      <td>NaN</td>\n",
       "      <td>NaN</td>\n",
       "      <td>NaN</td>\n",
       "      <td>NaN</td>\n",
       "      <td>NaN</td>\n",
       "      <td>NaN</td>\n",
       "      <td>NaN</td>\n",
       "      <td>NaN</td>\n",
       "      <td>NaN</td>\n",
       "      <td>...</td>\n",
       "      <td>NaN</td>\n",
       "      <td>NaN</td>\n",
       "      <td>NaN</td>\n",
       "      <td>NaN</td>\n",
       "      <td>NaN</td>\n",
       "      <td>NaN</td>\n",
       "      <td>NaN</td>\n",
       "      <td>NaN</td>\n",
       "      <td>NaN</td>\n",
       "      <td>NaN</td>\n",
       "    </tr>\n",
       "    <tr>\n",
       "      <th>25720</th>\n",
       "      <td>NaN</td>\n",
       "      <td>NaN</td>\n",
       "      <td>NaN</td>\n",
       "      <td>NaN</td>\n",
       "      <td>NaN</td>\n",
       "      <td>NaN</td>\n",
       "      <td>NaN</td>\n",
       "      <td>NaN</td>\n",
       "      <td>NaN</td>\n",
       "      <td>NaN</td>\n",
       "      <td>...</td>\n",
       "      <td>NaN</td>\n",
       "      <td>NaN</td>\n",
       "      <td>NaN</td>\n",
       "      <td>NaN</td>\n",
       "      <td>NaN</td>\n",
       "      <td>NaN</td>\n",
       "      <td>NaN</td>\n",
       "      <td>NaN</td>\n",
       "      <td>NaN</td>\n",
       "      <td>NaN</td>\n",
       "    </tr>\n",
       "    <tr>\n",
       "      <th>25721</th>\n",
       "      <td>NaN</td>\n",
       "      <td>NaN</td>\n",
       "      <td>NaN</td>\n",
       "      <td>NaN</td>\n",
       "      <td>NaN</td>\n",
       "      <td>NaN</td>\n",
       "      <td>NaN</td>\n",
       "      <td>NaN</td>\n",
       "      <td>NaN</td>\n",
       "      <td>NaN</td>\n",
       "      <td>...</td>\n",
       "      <td>NaN</td>\n",
       "      <td>NaN</td>\n",
       "      <td>NaN</td>\n",
       "      <td>NaN</td>\n",
       "      <td>NaN</td>\n",
       "      <td>NaN</td>\n",
       "      <td>NaN</td>\n",
       "      <td>NaN</td>\n",
       "      <td>NaN</td>\n",
       "      <td>NaN</td>\n",
       "    </tr>\n",
       "    <tr>\n",
       "      <th>25722</th>\n",
       "      <td>xx</td>\n",
       "      <td>NaN</td>\n",
       "      <td>NaN</td>\n",
       "      <td>NaN</td>\n",
       "      <td>NaN</td>\n",
       "      <td>NaN</td>\n",
       "      <td>NaN</td>\n",
       "      <td>NaN</td>\n",
       "      <td>NaN</td>\n",
       "      <td>NaN</td>\n",
       "      <td>...</td>\n",
       "      <td>NaN</td>\n",
       "      <td>NaN</td>\n",
       "      <td>NaN</td>\n",
       "      <td>NaN</td>\n",
       "      <td>NaN</td>\n",
       "      <td>NaN</td>\n",
       "      <td>NaN</td>\n",
       "      <td>NaN</td>\n",
       "      <td>NaN</td>\n",
       "      <td>NaN</td>\n",
       "    </tr>\n",
       "  </tbody>\n",
       "</table>\n",
       "<p>25723 rows × 24 columns</p>\n",
       "</div>"
      ],
      "text/plain": [
       "      Case Number         Date    Year        Type    Country  \\\n",
       "0      2018.06.25  25-Jun-2018  2018.0     Boating        USA   \n",
       "1      2018.06.18  18-Jun-2018  2018.0  Unprovoked        USA   \n",
       "2      2018.06.09  09-Jun-2018  2018.0     Invalid        USA   \n",
       "3      2018.06.08  08-Jun-2018  2018.0  Unprovoked  AUSTRALIA   \n",
       "4      2018.06.04  04-Jun-2018  2018.0    Provoked     MEXICO   \n",
       "...           ...          ...     ...         ...        ...   \n",
       "25718         NaN          NaN     NaN         NaN        NaN   \n",
       "25719         NaN          NaN     NaN         NaN        NaN   \n",
       "25720         NaN          NaN     NaN         NaN        NaN   \n",
       "25721         NaN          NaN     NaN         NaN        NaN   \n",
       "25722          xx          NaN     NaN         NaN        NaN   \n",
       "\n",
       "                  Area                        Location     Activity  \\\n",
       "0           California     Oceanside, San Diego County     Paddling   \n",
       "1              Georgia  St. Simon Island, Glynn County     Standing   \n",
       "2               Hawaii                    Habush, Oahu      Surfing   \n",
       "3      New South Wales              Arrawarra Headland      Surfing   \n",
       "4               Colima                        La Ticla  Free diving   \n",
       "...                ...                             ...          ...   \n",
       "25718              NaN                             NaN          NaN   \n",
       "25719              NaN                             NaN          NaN   \n",
       "25720              NaN                             NaN          NaN   \n",
       "25721              NaN                             NaN          NaN   \n",
       "25722              NaN                             NaN          NaN   \n",
       "\n",
       "                  Name Sex   ...         Species   \\\n",
       "0          Julie Wolfe    F  ...      White shark   \n",
       "1      Adyson McNeely     F  ...              NaN   \n",
       "2          John Denges    M  ...              NaN   \n",
       "3                 male    M  ...        2 m shark   \n",
       "4       Gustavo Ramos     M  ...  Tiger shark, 3m   \n",
       "...                ...  ...  ...              ...   \n",
       "25718              NaN  NaN  ...              NaN   \n",
       "25719              NaN  NaN  ...              NaN   \n",
       "25720              NaN  NaN  ...              NaN   \n",
       "25721              NaN  NaN  ...              NaN   \n",
       "25722              NaN  NaN  ...              NaN   \n",
       "\n",
       "               Investigator or Source                       pdf  \\\n",
       "0                    R. Collier, GSAF      2018.06.25-Wolfe.pdf   \n",
       "1      K.McMurray, TrackingSharks.com    2018.06.18-McNeely.pdf   \n",
       "2      K.McMurray, TrackingSharks.com     2018.06.09-Denges.pdf   \n",
       "3                      B. Myatt, GSAF  2018.06.08-Arrawarra.pdf   \n",
       "4                           A .Kipper      2018.06.04-Ramos.pdf   \n",
       "...                               ...                       ...   \n",
       "25718                             NaN                       NaN   \n",
       "25719                             NaN                       NaN   \n",
       "25720                             NaN                       NaN   \n",
       "25721                             NaN                       NaN   \n",
       "25722                             NaN                       NaN   \n",
       "\n",
       "                                            href formula  \\\n",
       "0      http://sharkattackfile.net/spreadsheets/pdf_di...   \n",
       "1      http://sharkattackfile.net/spreadsheets/pdf_di...   \n",
       "2      http://sharkattackfile.net/spreadsheets/pdf_di...   \n",
       "3      http://sharkattackfile.net/spreadsheets/pdf_di...   \n",
       "4      http://sharkattackfile.net/spreadsheets/pdf_di...   \n",
       "...                                                  ...   \n",
       "25718                                                NaN   \n",
       "25719                                                NaN   \n",
       "25720                                                NaN   \n",
       "25721                                                NaN   \n",
       "25722                                                NaN   \n",
       "\n",
       "                                                    href Case Number.1  \\\n",
       "0      http://sharkattackfile.net/spreadsheets/pdf_di...    2018.06.25   \n",
       "1      http://sharkattackfile.net/spreadsheets/pdf_di...    2018.06.18   \n",
       "2      http://sharkattackfile.net/spreadsheets/pdf_di...    2018.06.09   \n",
       "3      http://sharkattackfile.net/spreadsheets/pdf_di...    2018.06.08   \n",
       "4      http://sharkattackfile.net/spreadsheets/pdf_di...    2018.06.04   \n",
       "...                                                  ...           ...   \n",
       "25718                                                NaN           NaN   \n",
       "25719                                                NaN           NaN   \n",
       "25720                                                NaN           NaN   \n",
       "25721                                                NaN           NaN   \n",
       "25722                                                NaN           NaN   \n",
       "\n",
       "      Case Number.2 original order Unnamed: 22 Unnamed: 23  \n",
       "0        2018.06.25         6303.0         NaN         NaN  \n",
       "1        2018.06.18         6302.0         NaN         NaN  \n",
       "2        2018.06.09         6301.0         NaN         NaN  \n",
       "3        2018.06.08         6300.0         NaN         NaN  \n",
       "4        2018.06.04         6299.0         NaN         NaN  \n",
       "...             ...            ...         ...         ...  \n",
       "25718           NaN            NaN         NaN         NaN  \n",
       "25719           NaN            NaN         NaN         NaN  \n",
       "25720           NaN            NaN         NaN         NaN  \n",
       "25721           NaN            NaN         NaN         NaN  \n",
       "25722           NaN            NaN         NaN         NaN  \n",
       "\n",
       "[25723 rows x 24 columns]"
      ]
     },
     "execution_count": 2,
     "metadata": {},
     "output_type": "execute_result"
    }
   ],
   "source": [
    "data = pd.read_csv(\"files/attacks.csv\", encoding='latin1')\n",
    "data"
   ]
  },
  {
   "cell_type": "code",
   "execution_count": 3,
   "id": "7a96f709",
   "metadata": {},
   "outputs": [
    {
     "name": "stdout",
     "output_type": "stream",
     "text": [
      "<class 'pandas.core.frame.DataFrame'>\n",
      "RangeIndex: 25723 entries, 0 to 25722\n",
      "Data columns (total 24 columns):\n",
      " #   Column                  Non-Null Count  Dtype  \n",
      "---  ------                  --------------  -----  \n",
      " 0   Case Number             8702 non-null   object \n",
      " 1   Date                    6302 non-null   object \n",
      " 2   Year                    6300 non-null   float64\n",
      " 3   Type                    6298 non-null   object \n",
      " 4   Country                 6252 non-null   object \n",
      " 5   Area                    5847 non-null   object \n",
      " 6   Location                5762 non-null   object \n",
      " 7   Activity                5758 non-null   object \n",
      " 8   Name                    6092 non-null   object \n",
      " 9   Sex                     5737 non-null   object \n",
      " 10  Age                     3471 non-null   object \n",
      " 11  Injury                  6274 non-null   object \n",
      " 12  Fatal (Y/N)             5763 non-null   object \n",
      " 13  Time                    2948 non-null   object \n",
      " 14  Species                 3464 non-null   object \n",
      " 15  Investigator or Source  6285 non-null   object \n",
      " 16  pdf                     6302 non-null   object \n",
      " 17  href formula            6301 non-null   object \n",
      " 18  href                    6302 non-null   object \n",
      " 19  Case Number.1           6302 non-null   object \n",
      " 20  Case Number.2           6302 non-null   object \n",
      " 21  original order          6309 non-null   float64\n",
      " 22  Unnamed: 22             1 non-null      object \n",
      " 23  Unnamed: 23             2 non-null      object \n",
      "dtypes: float64(2), object(22)\n",
      "memory usage: 4.7+ MB\n"
     ]
    }
   ],
   "source": [
    "data.info()"
   ]
  },
  {
   "cell_type": "markdown",
   "id": "2b2c60f2",
   "metadata": {},
   "source": [
    "## Data cleaning"
   ]
  },
  {
   "cell_type": "code",
   "execution_count": 4,
   "id": "9c18c9c8",
   "metadata": {},
   "outputs": [],
   "source": [
    "data = data.drop_duplicates() #to remove duplicated rows"
   ]
  },
  {
   "cell_type": "code",
   "execution_count": 5,
   "id": "837fcfe9",
   "metadata": {},
   "outputs": [],
   "source": [
    "data.columns = [col.lower().replace(' ','_') for col in data.columns] #to standardize headers"
   ]
  },
  {
   "cell_type": "code",
   "execution_count": 11,
   "id": "60307e22",
   "metadata": {},
   "outputs": [],
   "source": [
    "data.rename(columns={\"sex_\": \"gender\", \"species_\": \"species\", \"fatal_(y/n)\": \"fatal\"}, inplace=True)"
   ]
  },
  {
   "cell_type": "code",
   "execution_count": 12,
   "id": "8b35fdef",
   "metadata": {
    "scrolled": true
   },
   "outputs": [
    {
     "name": "stdout",
     "output_type": "stream",
     "text": [
      "<class 'pandas.core.frame.DataFrame'>\n",
      "Int64Index: 6312 entries, 0 to 25722\n",
      "Data columns (total 24 columns):\n",
      " #   Column                  Non-Null Count  Dtype  \n",
      "---  ------                  --------------  -----  \n",
      " 0   case_number             6310 non-null   object \n",
      " 1   date                    6302 non-null   object \n",
      " 2   year                    6300 non-null   float64\n",
      " 3   type                    6298 non-null   object \n",
      " 4   country                 6252 non-null   object \n",
      " 5   area                    5847 non-null   object \n",
      " 6   location                5762 non-null   object \n",
      " 7   activity                5758 non-null   object \n",
      " 8   name                    6092 non-null   object \n",
      " 9   gender                  5737 non-null   object \n",
      " 10  age                     3471 non-null   object \n",
      " 11  injury                  6274 non-null   object \n",
      " 12  fatal                   5763 non-null   object \n",
      " 13  time                    2948 non-null   object \n",
      " 14  species                 3464 non-null   object \n",
      " 15  investigator_or_source  6285 non-null   object \n",
      " 16  pdf                     6302 non-null   object \n",
      " 17  href_formula            6301 non-null   object \n",
      " 18  href                    6302 non-null   object \n",
      " 19  case_number.1           6302 non-null   object \n",
      " 20  case_number.2           6302 non-null   object \n",
      " 21  original_order          6309 non-null   float64\n",
      " 22  unnamed:_22             1 non-null      object \n",
      " 23  unnamed:_23             2 non-null      object \n",
      "dtypes: float64(2), object(22)\n",
      "memory usage: 1.2+ MB\n"
     ]
    }
   ],
   "source": [
    "## dataframe has no duplicates, headers are standardized and we removed rows with lot of NaNs. Let's take another look at our dataframe: \n",
    "data.info()"
   ]
  },
  {
   "cell_type": "markdown",
   "id": "9e59c38d",
   "metadata": {},
   "source": [
    "We can already notice that several columns won't be important for our model: \n",
    "- case_number doesn't add any relevant information. same for the date, year, case_number.1, case_number.2, original_order as the information from those originates in the date\n",
    "- type contains very unclear information\n",
    "- name and investigator_or_source columns - to be dropped, they don't contain any information applicable for our model \n",
    "- same for pdf, href and href_formula which contain pdf with links \n",
    "I will focus on the data regarding location, activity, gender of the victim and injury/fatality of the attack. "
   ]
  },
  {
   "cell_type": "code",
   "execution_count": 13,
   "id": "b65c7ad4",
   "metadata": {},
   "outputs": [],
   "source": [
    "## The initial analysis suggests we can already drop several columns: case_number, year, name, pdf, href_formula, href, case_number.1, case_number.2, original_order, unnamed:_22, unnamed:_23, investigator_or_source\n",
    "data = data.drop(columns = [\"case_number\", \"date\", \"year\", \"type\", \"name\", \"age\", \"time\", \"pdf\", \"href_formula\", \"href\", \"case_number.1\", \"case_number.2\", \"original_order\", \"unnamed:_22\", \"unnamed:_23\", \"investigator_or_source\"], axis=1)"
   ]
  },
  {
   "cell_type": "code",
   "execution_count": 14,
   "id": "15d50577",
   "metadata": {},
   "outputs": [],
   "source": [
    "def clean_empty(x):\n",
    "    return 'UNK' if x == '' or x == ' ' else x"
   ]
  },
  {
   "cell_type": "code",
   "execution_count": 15,
   "id": "74744f38",
   "metadata": {},
   "outputs": [],
   "source": [
    "for col in data.select_dtypes('object'):\n",
    "    data[col] = data[col].apply(clean_empty)"
   ]
  },
  {
   "cell_type": "code",
   "execution_count": 16,
   "id": "7687e1d2",
   "metadata": {},
   "outputs": [
    {
     "name": "stdout",
     "output_type": "stream",
     "text": [
      "<class 'pandas.core.frame.DataFrame'>\n",
      "Int64Index: 6312 entries, 0 to 25722\n",
      "Data columns (total 8 columns):\n",
      " #   Column    Non-Null Count  Dtype \n",
      "---  ------    --------------  ----- \n",
      " 0   country   6252 non-null   object\n",
      " 1   area      5847 non-null   object\n",
      " 2   location  5762 non-null   object\n",
      " 3   activity  5758 non-null   object\n",
      " 4   gender    5737 non-null   object\n",
      " 5   injury    6274 non-null   object\n",
      " 6   fatal     5763 non-null   object\n",
      " 7   species   3464 non-null   object\n",
      "dtypes: object(8)\n",
      "memory usage: 443.8+ KB\n"
     ]
    }
   ],
   "source": [
    "data.info()"
   ]
  },
  {
   "cell_type": "code",
   "execution_count": 17,
   "id": "6ea67c2e",
   "metadata": {},
   "outputs": [],
   "source": [
    "data = data.dropna(thresh=5) #to remove rows which have NaN in min. 5 columns "
   ]
  },
  {
   "cell_type": "code",
   "execution_count": 18,
   "id": "fe21405e",
   "metadata": {},
   "outputs": [
    {
     "name": "stdout",
     "output_type": "stream",
     "text": [
      "<class 'pandas.core.frame.DataFrame'>\n",
      "Int64Index: 6201 entries, 0 to 6301\n",
      "Data columns (total 8 columns):\n",
      " #   Column    Non-Null Count  Dtype \n",
      "---  ------    --------------  ----- \n",
      " 0   country   6178 non-null   object\n",
      " 1   area      5833 non-null   object\n",
      " 2   location  5749 non-null   object\n",
      " 3   activity  5726 non-null   object\n",
      " 4   gender    5680 non-null   object\n",
      " 5   injury    6183 non-null   object\n",
      " 6   fatal     5684 non-null   object\n",
      " 7   species   3443 non-null   object\n",
      "dtypes: object(8)\n",
      "memory usage: 436.0+ KB\n"
     ]
    }
   ],
   "source": [
    "data.info()"
   ]
  },
  {
   "cell_type": "markdown",
   "id": "4aee426b",
   "metadata": {},
   "source": [
    "We have only categorical data left. "
   ]
  },
  {
   "cell_type": "code",
   "execution_count": 19,
   "id": "aedc4271",
   "metadata": {},
   "outputs": [],
   "source": [
    "data1 = data.copy() #copy of the dataframe after initial clean up"
   ]
  },
  {
   "cell_type": "code",
   "execution_count": 20,
   "id": "cd1a1522",
   "metadata": {},
   "outputs": [
    {
     "data": {
      "text/plain": [
       "country       23\n",
       "area         368\n",
       "location     452\n",
       "activity     475\n",
       "gender       521\n",
       "injury        18\n",
       "fatal        517\n",
       "species     2758\n",
       "dtype: int64"
      ]
     },
     "execution_count": 20,
     "metadata": {},
     "output_type": "execute_result"
    }
   ],
   "source": [
    "data1.isna().sum()"
   ]
  },
  {
   "cell_type": "code",
   "execution_count": 21,
   "id": "79f94825",
   "metadata": {},
   "outputs": [],
   "source": [
    "data1[\"country\"] = data1[\"country\"].fillna(\"unk\")"
   ]
  },
  {
   "cell_type": "code",
   "execution_count": 22,
   "id": "86ca82f2",
   "metadata": {},
   "outputs": [],
   "source": [
    "data1[\"area\"] = data1[\"area\"].fillna(\"unk\")"
   ]
  },
  {
   "cell_type": "code",
   "execution_count": 23,
   "id": "e5b7b8b3",
   "metadata": {},
   "outputs": [],
   "source": [
    "data1[\"location\"] = data1[\"location\"].fillna(\"unk\")"
   ]
  },
  {
   "cell_type": "code",
   "execution_count": 24,
   "id": "119dee19",
   "metadata": {},
   "outputs": [],
   "source": [
    "data1[\"activity\"] = data1[\"activity\"].fillna(\"unk\")"
   ]
  },
  {
   "cell_type": "code",
   "execution_count": 26,
   "id": "2bd4332c",
   "metadata": {},
   "outputs": [],
   "source": [
    "data1[\"gender\"] = data1[\"gender\"].fillna(\"unk\")"
   ]
  },
  {
   "cell_type": "code",
   "execution_count": 27,
   "id": "e90194f6",
   "metadata": {},
   "outputs": [],
   "source": [
    "data1[\"injury\"] = data1[\"injury\"].fillna(\"unk\")"
   ]
  },
  {
   "cell_type": "code",
   "execution_count": 28,
   "id": "3052f9f3",
   "metadata": {},
   "outputs": [],
   "source": [
    "data1[\"fatal\"] = data1[\"fatal\"].fillna(\"unk\")"
   ]
  },
  {
   "cell_type": "code",
   "execution_count": 29,
   "id": "1e8f24c9",
   "metadata": {},
   "outputs": [],
   "source": [
    "data1[\"species\"] = data1[\"species\"].fillna(\"unk\")"
   ]
  },
  {
   "cell_type": "code",
   "execution_count": 30,
   "id": "5d30b666",
   "metadata": {},
   "outputs": [
    {
     "data": {
      "text/plain": [
       "country     0\n",
       "area        0\n",
       "location    0\n",
       "activity    0\n",
       "gender      0\n",
       "injury      0\n",
       "fatal       0\n",
       "species     0\n",
       "dtype: int64"
      ]
     },
     "execution_count": 30,
     "metadata": {},
     "output_type": "execute_result"
    }
   ],
   "source": [
    "data1.isna().sum()"
   ]
  },
  {
   "cell_type": "code",
   "execution_count": 31,
   "id": "594e0435",
   "metadata": {},
   "outputs": [],
   "source": [
    "data2 = data1.copy() #copy of the dataframe after removing NaNs"
   ]
  },
  {
   "cell_type": "code",
   "execution_count": 32,
   "id": "6539a538",
   "metadata": {},
   "outputs": [
    {
     "data": {
      "text/html": [
       "<div>\n",
       "<style scoped>\n",
       "    .dataframe tbody tr th:only-of-type {\n",
       "        vertical-align: middle;\n",
       "    }\n",
       "\n",
       "    .dataframe tbody tr th {\n",
       "        vertical-align: top;\n",
       "    }\n",
       "\n",
       "    .dataframe thead th {\n",
       "        text-align: right;\n",
       "    }\n",
       "</style>\n",
       "<table border=\"1\" class=\"dataframe\">\n",
       "  <thead>\n",
       "    <tr style=\"text-align: right;\">\n",
       "      <th></th>\n",
       "      <th>country</th>\n",
       "      <th>area</th>\n",
       "      <th>location</th>\n",
       "      <th>activity</th>\n",
       "      <th>gender</th>\n",
       "      <th>injury</th>\n",
       "      <th>fatal</th>\n",
       "      <th>species</th>\n",
       "    </tr>\n",
       "  </thead>\n",
       "  <tbody>\n",
       "    <tr>\n",
       "      <th>count</th>\n",
       "      <td>6201</td>\n",
       "      <td>6201</td>\n",
       "      <td>6201</td>\n",
       "      <td>6201</td>\n",
       "      <td>6201</td>\n",
       "      <td>6201</td>\n",
       "      <td>6201</td>\n",
       "      <td>6201</td>\n",
       "    </tr>\n",
       "    <tr>\n",
       "      <th>unique</th>\n",
       "      <td>210</td>\n",
       "      <td>822</td>\n",
       "      <td>4098</td>\n",
       "      <td>1519</td>\n",
       "      <td>7</td>\n",
       "      <td>3698</td>\n",
       "      <td>9</td>\n",
       "      <td>1550</td>\n",
       "    </tr>\n",
       "    <tr>\n",
       "      <th>top</th>\n",
       "      <td>USA</td>\n",
       "      <td>Florida</td>\n",
       "      <td>unk</td>\n",
       "      <td>Surfing</td>\n",
       "      <td>M</td>\n",
       "      <td>FATAL</td>\n",
       "      <td>N</td>\n",
       "      <td>unk</td>\n",
       "    </tr>\n",
       "    <tr>\n",
       "      <th>freq</th>\n",
       "      <td>2227</td>\n",
       "      <td>1037</td>\n",
       "      <td>452</td>\n",
       "      <td>969</td>\n",
       "      <td>5039</td>\n",
       "      <td>778</td>\n",
       "      <td>4255</td>\n",
       "      <td>2758</td>\n",
       "    </tr>\n",
       "  </tbody>\n",
       "</table>\n",
       "</div>"
      ],
      "text/plain": [
       "       country     area location activity gender injury fatal species\n",
       "count     6201     6201     6201     6201   6201   6201  6201    6201\n",
       "unique     210      822     4098     1519      7   3698     9    1550\n",
       "top        USA  Florida      unk  Surfing      M  FATAL     N     unk\n",
       "freq      2227     1037      452      969   5039    778  4255    2758"
      ]
     },
     "execution_count": 32,
     "metadata": {},
     "output_type": "execute_result"
    }
   ],
   "source": [
    "data2.describe()"
   ]
  },
  {
   "cell_type": "code",
   "execution_count": 33,
   "id": "d8befe8c",
   "metadata": {},
   "outputs": [
    {
     "name": "stdout",
     "output_type": "stream",
     "text": [
      "USA                           2227\n",
      "AUSTRALIA                     1332\n",
      "SOUTH AFRICA                   579\n",
      "PAPUA NEW GUINEA               133\n",
      "NEW ZEALAND                    126\n",
      "                              ... \n",
      "NORTH ATLANTIC OCEAN             1\n",
      "MAYOTTE                          1\n",
      "GABON                            1\n",
      "ANDAMAN / NICOBAR ISLANDAS       1\n",
      "CEYLON (SRI LANKA)               1\n",
      "Name: country, Length: 210, dtype: int64 \n",
      "\n",
      "Florida                   1037\n",
      "New South Wales            485\n",
      "unk                        368\n",
      "Queensland                 310\n",
      "Hawaii                     298\n",
      "                          ... \n",
      "Aulong Island                1\n",
      "Antibes                      1\n",
      "Illeginni Atoll              1\n",
      "Between Beira & Maputo       1\n",
      "Moala Island                 1\n",
      "Name: area, Length: 822, dtype: int64 \n",
      "\n",
      "unk                                               452\n",
      "New Smyrna Beach, Volusia County                  163\n",
      "Daytona Beach, Volusia County                      30\n",
      "Ponce Inlet, Volusia County                        20\n",
      "Melbourne Beach, Brevard County                    18\n",
      "                                                 ... \n",
      "Whale Beach                                         1\n",
      "l'Anse-Vata                                         1\n",
      "Hole-in-the Wall                                    1\n",
      "Wreck of the Navy Barge, 22 miles SE of Rudee       1\n",
      "Below the English fort, Trincomalee                 1\n",
      "Name: location, Length: 4098, dtype: int64 \n",
      "\n",
      "Surfing                                 969\n",
      "Swimming                                866\n",
      "unk                                     475\n",
      "Fishing                                 430\n",
      "Spearfishing                            331\n",
      "                                       ... \n",
      "Feeding mullet to sharks                  1\n",
      "Sight-seeing                              1\n",
      "Netting pilchards                         1\n",
      "Surf-fishing                              1\n",
      "Wreck of  large double sailing canoe      1\n",
      "Name: activity, Length: 1519, dtype: int64 \n",
      "\n",
      "M      5039\n",
      "F       635\n",
      "unk     521\n",
      "M         2\n",
      "N         2\n",
      "lli       1\n",
      ".         1\n",
      "Name: gender, dtype: int64 \n",
      "\n",
      "FATAL                                                                   778\n",
      "Survived                                                                 95\n",
      "Foot bitten                                                              87\n",
      "No injury                                                                81\n",
      "Leg bitten                                                               72\n",
      "                                                                       ... \n",
      "FATAL, arm bitten                                                         1\n",
      "Multiple injuries                                                         1\n",
      "Right thigh bitten PROVOKED INCIDENT                                      1\n",
      "Bruised right leg                                                         1\n",
      "FATAL. \"Shark bit him in half, carrying away the lower extremities\"       1\n",
      "Name: injury, Length: 3698, dtype: int64 \n",
      "\n",
      "N          4255\n",
      "Y          1358\n",
      "unk         517\n",
      "UNKNOWN      60\n",
      " N            7\n",
      "M             1\n",
      "2017          1\n",
      "N             1\n",
      "y             1\n",
      "Name: fatal, dtype: int64 \n",
      "\n",
      "unk                                                                                                                              2758\n",
      "White shark                                                                                                                       163\n",
      "Shark involvement prior to death was not confirmed                                                                                102\n",
      "Invalid                                                                                                                           101\n",
      "Shark involvement not confirmed                                                                                                    86\n",
      "                                                                                                                                 ... \n",
      "1.2 m to 1.5 m [4.5' to 5'] shark                                                                                                   1\n",
      "Bull shark, 2.3 m [7.5']                                                                                                            1\n",
      "0.9 m  [3'] shark                                                                                                                   1\n",
      "Mako shark, 14'                                                                                                                     1\n",
      "Said to involve a grey nurse shark that leapt out of the water and  seized the boy but species identification is questionable       1\n",
      "Name: species, Length: 1550, dtype: int64 \n",
      "\n"
     ]
    }
   ],
   "source": [
    "for col in data2:\n",
    "    print(data2[col].value_counts(), '\\n')"
   ]
  },
  {
   "cell_type": "markdown",
   "id": "f8cc2bc6",
   "metadata": {},
   "source": [
    "Looking at the information above we can see that we need to clean the data in all columns that are left so it's more clear for the model we'll build. "
   ]
  },
  {
   "cell_type": "code",
   "execution_count": 34,
   "id": "9baaa6fe",
   "metadata": {},
   "outputs": [],
   "source": [
    "## cleaning the gender column. "
   ]
  },
  {
   "cell_type": "code",
   "execution_count": 35,
   "id": "d244a065",
   "metadata": {},
   "outputs": [
    {
     "data": {
      "text/plain": [
       "M      5039\n",
       "F       635\n",
       "unk     521\n",
       "M         2\n",
       "N         2\n",
       "lli       1\n",
       ".         1\n",
       "Name: gender, dtype: int64"
      ]
     },
     "execution_count": 35,
     "metadata": {},
     "output_type": "execute_result"
    }
   ],
   "source": [
    "data2[\"gender\"].value_counts()"
   ]
  },
  {
   "cell_type": "code",
   "execution_count": 36,
   "id": "3be0c00c",
   "metadata": {},
   "outputs": [],
   "source": [
    "def clean_gender(x):\n",
    "    x = str(x).lower()\n",
    "    if x.startswith(\"m\"):\n",
    "        return \"m\"\n",
    "    elif x.startswith (\"f\"):\n",
    "        return \"f\"\n",
    "    elif x.startswith(\"n\"):\n",
    "        return \"m\"\n",
    "    else: \n",
    "        return \"unk\""
   ]
  },
  {
   "cell_type": "code",
   "execution_count": 37,
   "id": "e9042048",
   "metadata": {},
   "outputs": [
    {
     "data": {
      "text/plain": [
       "m      5043\n",
       "f       635\n",
       "unk     523\n",
       "Name: gender, dtype: int64"
      ]
     },
     "execution_count": 37,
     "metadata": {},
     "output_type": "execute_result"
    }
   ],
   "source": [
    "data2[\"gender\"] = data2[\"gender\"].apply(clean_gender)\n",
    "data2[\"gender\"].value_counts()"
   ]
  },
  {
   "cell_type": "code",
   "execution_count": 38,
   "id": "6cafe2ba",
   "metadata": {},
   "outputs": [],
   "source": [
    "## In the activity column we have too many different values so too avoid problems with our model I'll bucket the ones with a very low count (often it's too precise explanation of the context when the incident took place) under the label \"other\""
   ]
  },
  {
   "cell_type": "code",
   "execution_count": 39,
   "id": "8c0f129d",
   "metadata": {},
   "outputs": [],
   "source": [
    "def clean_activity(x):\n",
    "    x = str(x).lower()\n",
    "    if \"surfing\" in x:\n",
    "        return \"surfing\"\n",
    "    elif \"swimming\" in x:\n",
    "        return \"swimming\"\n",
    "    elif \"fishing\" in x:\n",
    "        return \"fishing\"\n",
    "    elif \"spearfishing\" in x:\n",
    "        return \"spearfishing\"\n",
    "    elif \"bathing\" in x:\n",
    "        return \"bathing\"\n",
    "    elif \"diving\" in x:\n",
    "        return \"diving\"\n",
    "    else: \n",
    "        return x"
   ]
  },
  {
   "cell_type": "code",
   "execution_count": 40,
   "id": "bbbf899c",
   "metadata": {},
   "outputs": [
    {
     "data": {
      "text/plain": [
       "fishing                                                                           1157\n",
       "surfing                                                                           1125\n",
       "swimming                                                                          1107\n",
       "diving                                                                             524\n",
       "unk                                                                                476\n",
       "                                                                                  ... \n",
       "hauling dead shark aboard, when another shark leapt out of the water & bit him       1\n",
       "argentine air force c-54                                                             1\n",
       "the boat caribou ii sank                                                             1\n",
       "arsinoe, a french tanker                                                             1\n",
       "wreck of  large double sailing canoe                                                 1\n",
       "Name: activity, Length: 807, dtype: int64"
      ]
     },
     "execution_count": 40,
     "metadata": {},
     "output_type": "execute_result"
    }
   ],
   "source": [
    "data2[\"activity\"] = data2[\"activity\"].apply(clean_activity)\n",
    "data2[\"activity\"].value_counts()"
   ]
  },
  {
   "cell_type": "code",
   "execution_count": 45,
   "id": "e8445af9",
   "metadata": {},
   "outputs": [
    {
     "data": {
      "text/plain": [
       "['paddling on surfboard',\n",
       " 'splashing',\n",
       " 'body-boarding',\n",
       " 'seine netting',\n",
       " 'clamming',\n",
       " 'kite boarding',\n",
       " 'lifesaving drill',\n",
       " 'jumped into the water',\n",
       " 'jumping',\n",
       " 'air disaster',\n",
       " 'boat swamped',\n",
       " 'tagging sharks',\n",
       " 'boat capsized',\n",
       " 'feeding sharks',\n",
       " 'jumped overboard',\n",
       " 'sculling',\n",
       " '.',\n",
       " 'standing in knee-deep water',\n",
       " 'jumped overboard ',\n",
       " 'knocked overboard',\n",
       " 'suicide',\n",
       " 'paddling',\n",
       " 'crabbing',\n",
       " 'escaping from alacatraz',\n",
       " 'sitting on gunwale of boat',\n",
       " 'spearing fish',\n",
       " 'their 9 m launch was run down by a 25,000-ton japanese freighter  on the night of 3-11-1977 & they drifted, clinging to an icebox for 2 days',\n",
       " 'floating on a raft',\n",
       " 'unknown',\n",
       " 'competing in the woodvale atlantic rowing race',\n",
       " 'playing in the surf',\n",
       " 'shark watching',\n",
       " 'feeding fish',\n",
       " 'sup',\n",
       " 'wreck of the schooner pohoiki ']"
      ]
     },
     "execution_count": 45,
     "metadata": {},
     "output_type": "execute_result"
    }
   ],
   "source": [
    "rare_activities = [ind for ind, val in data2[\"activity\"].value_counts().iteritems()if val <5]\n",
    "rare_activities"
   ]
  },
  {
   "cell_type": "markdown",
   "id": "b609df58",
   "metadata": {},
   "source": [
    "Before we bucket them let's take a moment to appreciate the bravery of few of those shark attack victims who were attacked while: \n",
    "- dragging a shark\n",
    "- diving naked into the water on a bet\n",
    "- attempting to catch a crocodile\n",
    "- attempting to lasso a shark\n",
    "- attempting to rescue a shark\n",
    "- kissing a shark\n",
    "- dragging banana seeds through the shallows. "
   ]
  },
  {
   "cell_type": "code",
   "execution_count": 46,
   "id": "c5d8c591",
   "metadata": {},
   "outputs": [
    {
     "data": {
      "text/plain": [
       "fishing                       1157\n",
       "surfing                       1125\n",
       "swimming                      1107\n",
       "other                          892\n",
       "diving                         524\n",
       "unk                            476\n",
       "bathing                        189\n",
       "wading                         149\n",
       "standing                        99\n",
       "snorkeling                      89\n",
       "body boarding                   64\n",
       "boogie boarding                 45\n",
       "kayaking                        33\n",
       "treading water                  32\n",
       "fell overboard                  30\n",
       "walking                         17\n",
       "canoeing                        14\n",
       "floating                        14\n",
       "sea disaster                    13\n",
       "surf skiing                     12\n",
       "surf-skiing                     12\n",
       "rowing                          12\n",
       "paddle boarding                  9\n",
       "sitting on surfboard             9\n",
       "sailing                          9\n",
       "fell into the water              9\n",
       "playing                          7\n",
       "surf skiing                      7\n",
       "floating on his back             7\n",
       "boating                          7\n",
       "shipwreck                        6\n",
       "stand-up paddleboarding          6\n",
       "murder                           5\n",
       "boat                             5\n",
       "paddleskiing                     5\n",
       "dangling feet in the water       5\n",
       "Name: activity, dtype: int64"
      ]
     },
     "execution_count": 46,
     "metadata": {},
     "output_type": "execute_result"
    }
   ],
   "source": [
    "data2[\"activity\"] = data2[\"activity\"].apply(lambda x: \"other\" if x in rare_activities else x)\n",
    "data2[\"activity\"].value_counts()"
   ]
  },
  {
   "cell_type": "code",
   "execution_count": null,
   "id": "d3eb15e1",
   "metadata": {},
   "outputs": [],
   "source": [
    "#data[\"country\"].value_counts()"
   ]
  },
  {
   "cell_type": "code",
   "execution_count": null,
   "id": "149c49c5",
   "metadata": {},
   "outputs": [],
   "source": [
    "#for ind, val in data[\"country\"].value_counts().iteritems():\n",
    "    #if val < 5:\n",
    "        #print(ind,val)"
   ]
  },
  {
   "cell_type": "code",
   "execution_count": null,
   "id": "0ca8f26f",
   "metadata": {},
   "outputs": [],
   "source": [
    "#low_countries = [ind for ind, val in data[\"country\"].value_counts().iteritems() if val < 5]\n",
    "#low_countries"
   ]
  },
  {
   "cell_type": "code",
   "execution_count": null,
   "id": "338bef8b",
   "metadata": {},
   "outputs": [],
   "source": [
    "#data[\"country\"] = data[\"country\"].apply(lambda x:\"OTHER\" if x in low_countries else x)"
   ]
  },
  {
   "cell_type": "code",
   "execution_count": null,
   "id": "118ef9a3",
   "metadata": {},
   "outputs": [],
   "source": [
    "data.isna().sum()"
   ]
  },
  {
   "cell_type": "code",
   "execution_count": null,
   "id": "f6bf0f8f",
   "metadata": {},
   "outputs": [],
   "source": [
    "data = data.dropna(subset=[\"injury\"])"
   ]
  },
  {
   "cell_type": "code",
   "execution_count": null,
   "id": "7d7c34ba",
   "metadata": {},
   "outputs": [],
   "source": [
    "data = data.dropna(subset=[\"country\"])"
   ]
  },
  {
   "cell_type": "code",
   "execution_count": null,
   "id": "57ee1b13",
   "metadata": {},
   "outputs": [],
   "source": []
  },
  {
   "cell_type": "code",
   "execution_count": null,
   "id": "1e5ddace",
   "metadata": {},
   "outputs": [],
   "source": []
  },
  {
   "cell_type": "code",
   "execution_count": null,
   "id": "b6e80579",
   "metadata": {},
   "outputs": [],
   "source": [
    "## Between columns: country, area and location some information might be repeated or sufficient to remove NaN in other columns"
   ]
  },
  {
   "cell_type": "code",
   "execution_count": null,
   "id": "27437e40",
   "metadata": {},
   "outputs": [],
   "source": [
    "# checking values for country column\n",
    "data[\"country\"].value_counts()"
   ]
  },
  {
   "cell_type": "code",
   "execution_count": null,
   "id": "3422c4f3",
   "metadata": {},
   "outputs": [],
   "source": [
    "nan_rows = data[data[\"country\"].isna()]\n",
    "nan_rows"
   ]
  },
  {
   "cell_type": "code",
   "execution_count": null,
   "id": "fc6ebc2a",
   "metadata": {},
   "outputs": [],
   "source": [
    "data[\"fatal_(y/n)\"].value_counts()"
   ]
  },
  {
   "cell_type": "code",
   "execution_count": null,
   "id": "e24ea80c",
   "metadata": {},
   "outputs": [],
   "source": []
  },
  {
   "cell_type": "code",
   "execution_count": null,
   "id": "b36522a3",
   "metadata": {},
   "outputs": [],
   "source": [
    "## There might be a similar relation between columns injury and fatal. To be analyzed and cleaned. "
   ]
  },
  {
   "cell_type": "code",
   "execution_count": null,
   "id": "1da59bf8",
   "metadata": {},
   "outputs": [],
   "source": []
  }
 ],
 "metadata": {
  "kernelspec": {
   "display_name": "Python 3 (ipykernel)",
   "language": "python",
   "name": "python3"
  },
  "language_info": {
   "codemirror_mode": {
    "name": "ipython",
    "version": 3
   },
   "file_extension": ".py",
   "mimetype": "text/x-python",
   "name": "python",
   "nbconvert_exporter": "python",
   "pygments_lexer": "ipython3",
   "version": "3.10.9"
  }
 },
 "nbformat": 4,
 "nbformat_minor": 5
}
